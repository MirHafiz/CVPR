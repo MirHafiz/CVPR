{
 "cells": [
  {
   "cell_type": "code",
   "execution_count": 36,
   "metadata": {
    "colab": {
     "base_uri": "https://localhost:8080/",
     "height": 281
    },
    "id": "l2vtl-5wTv5v",
    "outputId": "566ba4c9-9e44-4beb-c63c-088edbe4733c"
   },
   "outputs": [
    {
     "data": {
      "image/png": "[encoded data removed]",
      "text/plain": [
       "<Figure size 432x288 with 1 Axes>"
      ]
     },
     "metadata": {
      "needs_background": "light"
     },
     "output_type": "display_data"
    }
   ],
   "source": [
    "import numpy as np\n",
    "import matplotlib.pyplot as plt\n",
    "%matplotlib inline\n",
    "\n",
    "def First(n_points, noise=.5):\n",
    "    n = np.sqrt(np.random.rand(n_points,1)) * 1200 * (2*np.pi)/360\n",
    "    d1x = -np.cos(n)*n + np.random.rand(n_points,1) * noise\n",
    "    d1y = np.sin(n)*n + np.random.rand(n_points,1) * noise\n",
    "    return (np.vstack((np.hstack((d1x,d1y)),np.hstack((-d1x,-d1y)))), \n",
    "            np.hstack((np.zeros(n_points),np.ones(n_points))))\n",
    "\n",
    "X, Y = First(100)\n",
    "\n",
    "plt.title('spiral')\n",
    "plt.plot(X[Y==0,0], X[Y==0,1], '.', label='B')\n",
    "plt.plot(X[Y==1,0], X[Y==1,1], '.', label='Y')\n",
    "plt.legend()\n",
    "plt.show()"
   ]
  },
  {
   "cell_type": "code",
   "execution_count": 37,
   "metadata": {},
   "outputs": [
    {
     "ename": "SyntaxError",
     "evalue": "invalid syntax (Temp/ipykernel_7136/2919465053.py, line 1)",
     "output_type": "error",
     "traceback": [
      "\u001b[1;36m  File \u001b[1;32m\"C:\\Users\\hafiz\\AppData\\Local\\Temp/ipykernel_7136/2919465053.py\"\u001b[1;36m, line \u001b[1;32m1\u001b[0m\n\u001b[1;33m    Task 2\u001b[0m\n\u001b[1;37m         ^\u001b[0m\n\u001b[1;31mSyntaxError\u001b[0m\u001b[1;31m:\u001b[0m invalid syntax\n"
     ]
    }
   ],
   "source": [
    "Task 2"
   ]
  },
  {
   "cell_type": "code",
   "execution_count": 38,
   "metadata": {
    "id": "k4j8kyYiT0K2"
   },
   "outputs": [],
   "source": [
    "class NeuralNetwork_Tanh(object):\n",
    "    def __init__(self):\n",
    "        inputLayerNeurons = 2\n",
    "        hiddenLayerNeurons = 8\n",
    "        outLayerNeurons = 1\n",
    "        \n",
    "        self.learning_rate = 0.2\n",
    "        self.W_HI = np.random.randn(inputLayerNeurons, hiddenLayerNeurons)\n",
    "        self.W_OH = np.random.randn(hiddenLayerNeurons, outLayerNeurons)\n",
    "        \n",
    "    def tanh(self, x, der=False):\n",
    "        if der == True:\n",
    "            return 1-x**2\n",
    "        else:\n",
    "            return (np.exp(2*x) - 1) / (np.exp(2*x) + 1)\n",
    "        \n",
    "    def feedForward(self, X):\n",
    "        hidden_input = np.dot(X, self.W_HI)\n",
    "        self.hidden_output = self.tanh(hidden_input)\n",
    "        \n",
    "        output_input = np.dot(self.hidden_output, self.W_OH)\n",
    "        pred = self.tanh(output_input)\n",
    "        return pred\n",
    "        \n",
    "    def backPropagation(self, X, Y, pred):\n",
    "        output_error = Y - pred\n",
    "        output_delta = self.learning_rate * output_error * self.tanh(pred, der=True)\n",
    "        \n",
    "        hidden_error = output_delta.dot(self.W_OH.T)\n",
    "        hidden_delta = self.learning_rate * hidden_error * self.tanh(self.hidden_output, der=True)\n",
    "        \n",
    "        self.W_HI += X.T.dot(hidden_delta)\n",
    "        self.W_OH += self.hidden_output.T.dot(output_delta)\n",
    "        \n",
    "    def train(self, X, Y):\n",
    "        output = self.feedForward(X)\n",
    "        self.backPropagation(X,Y,output)"
   ]
  },
  {
   "cell_type": "code",
   "execution_count": 39,
   "metadata": {
    "colab": {
     "base_uri": "https://localhost:8080/",
     "height": 283
    },
    "id": "TY3jW13sT5xl",
    "outputId": "fd9c0618-33bc-44bd-a07b-3410895961d3"
   },
   "outputs": [
    {
     "data": {
      "text/plain": [
       "[<matplotlib.lines.Line2D at 0x24e753bf760>]"
      ]
     },
     "execution_count": 39,
     "metadata": {},
     "output_type": "execute_result"
    },
    {
     "data": {
      "image/png": "[encoded data removed]",
      "text/plain": [
       "<Figure size 432x288 with 1 Axes>"
      ]
     },
     "metadata": {
      "needs_background": "light"
     },
     "output_type": "display_data"
    }
   ],
   "source": [
    "NN = NeuralNetwork_Tanh()\n",
    "\n",
    "err = []\n",
    "for i in range(20000):\n",
    "    #NN.train(X,Y)\n",
    "     err.append(np.mean(np.square(Y - NN.feedForward(X))))\n",
    "\n",
    "plt.plot(err)"
   ]
  },
  {
   "cell_type": "code",
   "execution_count": 40,
   "metadata": {
    "colab": {
     "base_uri": "https://localhost:8080/"
    },
    "id": "PQQBiIYXUB6N",
    "outputId": "d5977dde-0145-4e8a-95ed-2716d4243bdc"
   },
   "outputs": [
    {
     "name": "stdout",
     "output_type": "stream",
     "text": [
      "[0.]\n"
     ]
    }
   ],
   "source": [
    "print(NN.feedForward([0,0]))"
   ]
  },
  {
   "cell_type": "code",
   "execution_count": 41,
   "metadata": {
    "colab": {
     "base_uri": "https://localhost:8080/"
    },
    "id": "i-e6TeM6UGbe",
    "outputId": "a6a6981c-cc41-4e13-f745-d51647309cbd"
   },
   "outputs": [
    {
     "name": "stdout",
     "output_type": "stream",
     "text": [
      "[-0.25225323]\n"
     ]
    }
   ],
   "source": [
    "print(NN.feedForward([1,1]))"
   ]
  },
  {
   "cell_type": "code",
   "execution_count": 42,
   "metadata": {
    "colab": {
     "base_uri": "https://localhost:8080/"
    },
    "id": "hqUu1iMjULDu",
    "outputId": "8b557c8e-26e0-43b7-a580-11006eaea58f"
   },
   "outputs": [
    {
     "name": "stdout",
     "output_type": "stream",
     "text": [
      "[-0.43991031]\n"
     ]
    }
   ],
   "source": [
    "print(NN.feedForward([1,0]))"
   ]
  },
  {
   "cell_type": "code",
   "execution_count": 43,
   "metadata": {
    "colab": {
     "base_uri": "https://localhost:8080/"
    },
    "id": "CVyJK29BUObG",
    "outputId": "97d0172f-c724-49da-fecf-4aedf30f6bab"
   },
   "outputs": [
    {
     "name": "stdout",
     "output_type": "stream",
     "text": [
      "[0.03189369]\n"
     ]
    }
   ],
   "source": [
    "print(NN.feedForward([0,1]))"
   ]
  },
  {
   "cell_type": "code",
   "execution_count": 44,
   "metadata": {
    "id": "aS5aKdi8UVfm"
   },
   "outputs": [
    {
     "name": "stdout",
     "output_type": "stream",
     "text": [
      "[0.04471011]\n"
     ]
    }
   ],
   "source": [
    "print(NN.feedForward([0,2]))"
   ]
  },
  {
   "cell_type": "code",
   "execution_count": null,
   "metadata": {},
   "outputs": [],
   "source": []
  }
 ],
 "metadata": {
  "colab": {
   "name": "Q1.ipynb",
   "provenance": []
  },
  "kernelspec": {
   "display_name": "Python 3 (ipykernel)",
   "language": "python",
   "name": "python3"
  },
  "language_info": {
   "codemirror_mode": {
    "name": "ipython",
    "version": 3
   },
   "file_extension": ".py",
   "mimetype": "text/x-python",
   "name": "python",
   "nbconvert_exporter": "python",
   "pygments_lexer": "ipython3",
   "version": "3.9.7"
  }
 },
 "nbformat": 4,
 "nbformat_minor": 1
}
